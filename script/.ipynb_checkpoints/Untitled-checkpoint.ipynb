{
 "cells": [
  {
   "cell_type": "code",
   "execution_count": 22,
   "metadata": {},
   "outputs": [
    {
     "name": "stdout",
     "output_type": "stream",
     "text": [
      "[]\n",
      "loading data\n",
      "0\n",
      "1\n",
      "2\n",
      "finish\n",
      "(285, 2)\n"
     ]
    }
   ],
   "source": [
    "#coding:utf-8\n",
    "import mxnet as mx\n",
    "from mxnet.gluon import HybridBlock\n",
    "from mxnet.gluon.model_zoo import vision\n",
    "import numpy as np\n",
    "from mxnet import nd,autograd\n",
    "from mxnet.io import NDArrayIter\n",
    "from mxnet import gluon\n",
    "\n",
    "\n",
    "ctx = mx.gpu()\n",
    "alexnet = vision.AlexNet(classes=8)\n",
    "\n",
    "def transform(labels):\n",
    "    results = []\n",
    "    for label in labels:\n",
    "        label = int(label)-1\n",
    "        results.append(label)\n",
    "    return results\n",
    "\n",
    "#test accuracy\n",
    "def testAccuracy(net,acc,testIter):\n",
    "    acc.reset()\n",
    "    testIter.reset()\n",
    "    for batch in testIter:\n",
    "        predict = nd.argmax(nd.softmax(net(batch.data[0].as_in_context(model_ctx))),axis=1)\n",
    "        acc.update(preds=predict,labels=batch.label[0].as_in_context(model_ctx))\n",
    "    return acc.get()[1]\n",
    "\n",
    "trainRatio = 0.75\n",
    "testRatio = 0.25\n",
    "spectrumData = np.zeros((0,2))\n",
    "print('loading data')\n",
    "for i in range(3):\n",
    "    print(i)\n",
    "    spectrumData = np.concatenate((spectrumData,np.load('IEMOCAP_STFT_IMAGE2'+str(i)+'.npy')),axis = 0)\n",
    "print('finish')\n",
    "\n",
    "\n",
    "dataNum = spectrumData.shape[0]\n",
    "trainNum = int(dataNum*trainRatio)\n"
   ]
  },
  {
   "cell_type": "code",
   "execution_count": 11,
   "metadata": {},
   "outputs": [
    {
     "name": "stdout",
     "output_type": "stream",
     "text": [
      "(95, 2)\n"
     ]
    }
   ],
   "source": [
    "data = np.load('IEMOCAP_STFT_IMAGE20'+'.npy')\n",
    "print(data.shape)"
   ]
  },
  {
   "cell_type": "code",
   "execution_count": null,
   "metadata": {},
   "outputs": [],
   "source": []
  }
 ],
 "metadata": {
  "kernelspec": {
   "display_name": "Python 3",
   "language": "python",
   "name": "python3"
  },
  "language_info": {
   "codemirror_mode": {
    "name": "ipython",
    "version": 3
   },
   "file_extension": ".py",
   "mimetype": "text/x-python",
   "name": "python",
   "nbconvert_exporter": "python",
   "pygments_lexer": "ipython3",
   "version": "3.5.4"
  }
 },
 "nbformat": 4,
 "nbformat_minor": 2
}
