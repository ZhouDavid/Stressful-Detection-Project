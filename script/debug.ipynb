{
 "cells": [
  {
   "cell_type": "code",
   "execution_count": 77,
   "metadata": {},
   "outputs": [],
   "source": [
    "# coding:utf-8\n",
    "'''\n",
    "本脚本要完成的功能是对IEMOCAP和ravdess两个数据集数组化，\n",
    "每一个wav用一个不定长的数组表示，并配上标签\n",
    "对于IEMOCAP数据，总共11个标签，label数组为['Neutral', 'Frustration', 'Other', \n",
    "'Disgust', 'Surprise', 'Excited', 'Anger', 'Fear', 'Sadness', 'Happiness', 'Overlap']\n",
    "对于RAVDESS,总共8个标签，为['netural','calm','happy','sad','angry','fearful','disgust','surprised']\n",
    "'''\n",
    "\n",
    "import os\n",
    "from os import listdir\n",
    "from os.path import join\n",
    "import scipy\n",
    "from scipy.io import wavfile as wav\n",
    "import matplotlib.pyplot as plt\n",
    "from scipy import signal\n",
    "from sklearn import preprocessing\n",
    "import numpy as np\n",
    "import time\n",
    "import random\n",
    "from tqdm import tqdm\n",
    "import struct\n",
    "from PIL import Image\n",
    "\n",
    "IEMOCAP_EMOTIONS={'Neutral state':0, 'Frustration':1, 'Other':2,\\\n",
    "'Disgust':3, 'Surprise':4, 'Excited':5, 'Anger':6, 'Fear':7, 'Sadness':8, 'Happiness':9, 'Overlap':10}\n",
    "IEMOCAP_EMOTIONS_LIST=['Neutral state', 'Frustration', 'Other',\\\n",
    "'Disgust', 'Surprise', 'Excited', 'Anger', 'Fear', 'Sadness', 'Happiness', 'Overlap']\n",
    "\n",
    "RAVDESS_EMOTIONS=['netural','calm','happy','sad','angry','fearful','disgust','surprised']\n",
    "\n",
    "IEMOCAP_DIR='D:\\\\David Zhou\\\\Stressful Detection Project\\\\data\\\\Emotion Dataset\\\\IEMOCAP_full_release'\n",
    "RAVDESS_DIR='D:\\\\David Zhou\\\\Stressful Detection Project\\\\data\\\\Emotion Dataset\\\\RAVDESS-SpeechAO_AllActors'\n",
    "\n",
    "RAVDESS_PREPROCESSED_DIR = 'D:\\\\David Zhou\\\\Stressful Detection Project\\\\data\\\\preprocessed data\\\\RAVDESS'\n",
    "IEMOCAP_PREPROCESSED_DIR = 'D:\\\\David Zhou\\\\Stressful Detection Project\\\\data\\\\preprocessed data\\\\IEMOCAP'\n",
    "\n",
    "def findAllFilePaths(root,suffix='.wav'):\n",
    "    # give a directory and return all file's absolute paths ending with {suffix}\n",
    "    wavFilePaths = list()\n",
    "    queue = list()\n",
    "    queue.append(root)\n",
    "    while (len(queue)):\n",
    "        currentDir = queue.pop(0)\n",
    "        if os.path.isdir(currentDir):\n",
    "            queue.extend([join(currentDir,d) for d in listdir(currentDir) if os.path.isdir(join(currentDir,d))])\n",
    "            wavFilePaths.extend([join(currentDir,w) for w in listdir(currentDir) if w.endswith(suffix)])\n",
    "    return wavFilePaths\n",
    "\n",
    "def readAllWaves(paths):\n",
    "    '''\n",
    "    give wav absolute paths and return \n",
    "    a list of numpy array which is scaled\n",
    "    '''\n",
    "    scaled_wavs = list()\n",
    "    for path in paths:\n",
    "        sample_rate,wav_data = wav.read(path)\n",
    "        if(len(wav_data.shape)>1):\n",
    "            # 处理多通道情形\n",
    "            wav_data = wav_data.T[0]\n",
    "        scaled_wav_data = preprocessing.scale(wav_data)\n",
    "        scaled_wavs.append(scaled_wav_data)\n",
    "    return scaled_wavs\n",
    "\n",
    "def readRavdessLabels(paths):\n",
    "    '''\n",
    "    give a list of file paths\n",
    "    return a list of integer labels \n",
    "    starting from one\n",
    "    corresponding to each path\n",
    "    '''\n",
    "    return [int(path.split('\\\\')[-1].split('-')[2]) for path in paths]\n",
    "\n",
    "def readIemocapLabels(cat_paths):\n",
    "    '''give label paths and return a dict,key is wavfile name, \n",
    "    value is integer label, starting from zero'''\n",
    "    label_dict=dict()\n",
    "    for filename in cat_paths:\n",
    "        file = open(filename,'r')\n",
    "        records = file.readlines()\n",
    "        for r in records:\n",
    "            key = r.split(' ')[0]\n",
    "            er = r.split(':')[1:]  #去掉第一个\n",
    "            er = [e.split(';')[0] for e in er]\n",
    "            vals = [IEMOCAP_EMOTIONS[e] for e in er]\n",
    "            if not key in label_dict:\n",
    "                label_dict[key]=vals\n",
    "            else:\n",
    "                label_dict[key].extend(vals)\n",
    "        file.close()\n",
    "    return label_dict\n"
   ]
  },
  {
   "cell_type": "code",
   "execution_count": 75,
   "metadata": {},
   "outputs": [],
   "source": [
    "# 处理RAVDESS数据\n",
    "ravdess_paths = findAllFilePaths(RAVDESS_DIR)\n",
    "# print('processing data')\n",
    "# ravdess_data = readAllWaves(ravdess_paths)\n",
    "ravdess_labels = readRavdessLabels(ravdess_paths)\n",
    "\n",
    "# 给每个wav array贴上标签\n",
    "# print('tagging')\n",
    "# labeled_ravdess_data = list()\n",
    "# for i in range(len(ravdess_labels)):\n",
    "# \tlabeled_ravdess_data.append((ravdess_data[i],ravdess_labels[i]))\n",
    "# print('saving')\n",
    "# np.save(os.path.join(RAVDESS_PREPROCESSED_DIR,'RAVDESS_SERIES.npy'),labeled_ravdess_data)"
   ]
  },
  {
   "cell_type": "code",
   "execution_count": 78,
   "metadata": {},
   "outputs": [],
   "source": [
    "# 对音频进行分类\n",
    "# 新建八个分类目录\n",
    "for name in IEMOCAP_EMOTIONS.keys():\n",
    "    try:\n",
    "        os.mkdir(os.path.join(IEMOCAP_DIR,name))\n",
    "    except:\n",
    "        pass"
   ]
  },
  {
   "cell_type": "code",
   "execution_count": 79,
   "metadata": {},
   "outputs": [],
   "source": [
    "# 处理IEMOCAP\n",
    "iemocap_paths = findAllFilePaths(IEMOCAP_DIR)\n",
    "cat_paths = findAllFilePaths(IEMOCAP_DIR,suffix='cat.txt')\n",
    "# print('processing data')\n",
    "# iemocap_data = readAllWaves(iemocap_paths)\n",
    "iemocap_label_dict = readIemocapLabels(cat_paths)"
   ]
  },
  {
   "cell_type": "code",
   "execution_count": 81,
   "metadata": {},
   "outputs": [
    {
     "data": {
      "text/plain": [
       "[1, 1, 4, 3, 6, 6]"
      ]
     },
     "execution_count": 81,
     "metadata": {},
     "output_type": "execute_result"
    }
   ],
   "source": [
    "iemocap_label_dict['Ses01F_impro01_F010']"
   ]
  },
  {
   "cell_type": "code",
   "execution_count": 21,
   "metadata": {},
   "outputs": [
    {
     "name": "stdout",
     "output_type": "stream",
     "text": [
      "processing data\n"
     ]
    },
    {
     "name": "stderr",
     "output_type": "stream",
     "text": [
      "d:\\python35\\lib\\site-packages\\sklearn\\utils\\validation.py:475: DataConversionWarning: Data with input dtype int16 was converted to float64 by the scale function.\n",
      "  warnings.warn(msg, DataConversionWarning)\n"
     ]
    },
    {
     "name": "stdout",
     "output_type": "stream",
     "text": [
      "tagging\n",
      "saving\n"
     ]
    }
   ],
   "source": [
    "# 给每个data贴标签\n",
    "labeled_iemocap_data = list()\n",
    "print('tagging')\n",
    "for i in range(len(iemocap_paths)):\n",
    "    key = iemocap_paths[i].split('\\\\')[-1][0:-4]\n",
    "    label = iemocap_label_dict[key]\n",
    "    labeled_iemocap_data.append((iemocap_data[i],label))\n",
    "print('saving')\n",
    "np.save(os.path.join(IEMOCAP_PREPROCESSED_DIR,'IEMOCAP_SERIES.npy'),labeled_iemocap_data)"
   ]
  },
  {
   "cell_type": "code",
   "execution_count": 24,
   "metadata": {},
   "outputs": [],
   "source": [
    "# 读取并分类\n",
    "IEMOCAP_EMOTIONS_LIST=['Neutral', 'Frustration', 'Other',\\\n",
    "'Disgust', 'Surprise', 'Excited', 'Anger', 'Fear', 'Sadness', 'Happiness', 'Overlap']\n",
    "for path in iemocap_paths:\n",
    "    tmp = open(path,'rb').read()\n",
    "    filename = path.split('\\\\')[-1][0:-4] # say Ses01F_impro01_F000\n",
    "    label_index = iemocap_label_dict[filename]\n",
    "    label_str = IEMOCAP_EMOTIONS_LIST[label_index]\n",
    "    out = open(os.path.join(IEMOCAP_DIR,os.path.join(label_str,filename)+'.wav'),'wb')\n",
    "    out.write(tmp)\n",
    "    out.close()"
   ]
  },
  {
   "cell_type": "code",
   "execution_count": 41,
   "metadata": {},
   "outputs": [
    {
     "data": {
      "text/plain": [
       "1"
      ]
     },
     "execution_count": 41,
     "metadata": {},
     "output_type": "execute_result"
    }
   ],
   "source": [
    "iemocap_label_dict['Ses01F_impro01_M011']"
   ]
  },
  {
   "cell_type": "code",
   "execution_count": 48,
   "metadata": {},
   "outputs": [
    {
     "data": {
      "text/plain": [
       "140941"
      ]
     },
     "execution_count": 48,
     "metadata": {},
     "output_type": "execute_result"
    }
   ],
   "source": [
    "min = 1e10\n",
    "for i in range(len(ravdess_data)):\n",
    "    if ravdess_data[i].shape[0]<min:\n",
    "        min = ravdess_data[i].shape[0]\n",
    "min"
   ]
  },
  {
   "cell_type": "code",
   "execution_count": null,
   "metadata": {},
   "outputs": [],
   "source": []
  }
 ],
 "metadata": {
  "kernelspec": {
   "display_name": "Python 3",
   "language": "python",
   "name": "python3"
  },
  "language_info": {
   "codemirror_mode": {
    "name": "ipython",
    "version": 3
   },
   "file_extension": ".py",
   "mimetype": "text/x-python",
   "name": "python",
   "nbconvert_exporter": "python",
   "pygments_lexer": "ipython3",
   "version": "3.5.4"
  }
 },
 "nbformat": 4,
 "nbformat_minor": 2
}
